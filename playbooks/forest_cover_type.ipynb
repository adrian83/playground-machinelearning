{
 "cells": [
  {
   "cell_type": "code",
   "execution_count": null,
   "id": "39d3b2f3",
   "metadata": {},
   "outputs": [],
   "source": [
    "!pip install tensorflow\n",
    "!pip install matplotlib\n",
    "!pip install pandas"
   ]
  },
  {
   "cell_type": "code",
   "execution_count": null,
   "id": "1506e9ea",
   "metadata": {},
   "outputs": [],
   "source": [
    "import tensorflow as tf"
   ]
  },
  {
   "cell_type": "code",
   "execution_count": null,
   "id": "443d675f",
   "metadata": {},
   "outputs": [],
   "source": [
    "# read dataset\n",
    "\n",
    "# dataset origin https://archive.ics.uci.edu/ml/datasets/covertype\n",
    "file_path = \"/home/adrian/Pobrane/covtype.data\"\n",
    "\n",
    "defaults = [tf.int32] * 55 # number of columns\n",
    "dataset = tf.data.experimental.CsvDataset(file_path, defaults)"
   ]
  },
  {
   "cell_type": "code",
   "execution_count": null,
   "id": "0a5c439c",
   "metadata": {},
   "outputs": [],
   "source": [
    "# split to features and labels \n",
    "\n",
    "columns = [\n",
    "    \"Elevation\", \n",
    "    \"Aspect\", \n",
    "    \"Slope\", \n",
    "    \"Horizontal_Distance_To_Hydrology\", \n",
    "    \"Vertical_Distance_To_Hydrology\", \n",
    "    \"Horizontal_Distance_To_Roadways\", \n",
    "    \"Hillshade_9am\",\n",
    "    \"Hillshade_Noon\", \n",
    "    \"Hillshade_3pm\", \n",
    "    \"Horizontal_Distance_To_Fire_Points\", \n",
    "    \"Soil_Type\", \n",
    "    \"Cover_Type\"\n",
    "    ]\n",
    "\n",
    "def _parse_csv_data(*vals):\n",
    "    \n",
    "    soil_type = tf.convert_to_tensor(vals[14:54])\n",
    "    \n",
    "    feature_vals = (*vals[:10], soil_type, vals[54])\n",
    "    features = dict(zip(columns, feature_vals))\n",
    "    \n",
    "    label = tf.argmax(vals[10:14], axis=0)\n",
    "    \n",
    "    return features, label"
   ]
  },
  {
   "cell_type": "code",
   "execution_count": null,
   "id": "2255e86b",
   "metadata": {},
   "outputs": [],
   "source": [
    "# check \n",
    "dataset = dataset.map(_parse_csv_data)\n",
    "print(list(dataset.take(1)))"
   ]
  },
  {
   "cell_type": "code",
   "execution_count": null,
   "id": "5e125022",
   "metadata": {},
   "outputs": [],
   "source": [
    "# define features\n",
    "\n",
    "numeric_columns = [\n",
    "    \"Elevation\", \n",
    "    \"Aspect\", \n",
    "    \"Slope\", \n",
    "    \"Horizontal_Distance_To_Hydrology\", \n",
    "    \"Vertical_Distance_To_Hydrology\", \n",
    "    \"Horizontal_Distance_To_Roadways\", \n",
    "    \"Hillshade_9am\",\n",
    "    \"Hillshade_Noon\", \n",
    "    \"Hillshade_3pm\", \n",
    "    \"Horizontal_Distance_To_Fire_Points\", \n",
    "]\n",
    "numeric_features = [tf.feature_column.numeric_column(col) for col in numeric_columns]\n",
    "\n",
    "cover_type = tf.feature_column.categorical_column_with_identity(\"Cover_Type\", num_buckets=8)\n",
    "cover_embedding = tf.feature_column.embedding_column(cover_type, dimension=10)\n",
    "\n",
    "soil_type = tf.feature_column.numeric_column(\"Soil_Type\", shape=(40,))"
   ]
  },
  {
   "cell_type": "code",
   "execution_count": null,
   "id": "cd71831a",
   "metadata": {},
   "outputs": [],
   "source": [
    "# define 1st layer for the model\n",
    "\n",
    "features = numeric_features + [soil_type, cover_embedding]\n",
    "feature_layer = tf.keras.layers.DenseFeatures(features)"
   ]
  },
  {
   "cell_type": "code",
   "execution_count": null,
   "id": "592418e0",
   "metadata": {},
   "outputs": [],
   "source": [
    "# few consts\n",
    "\n",
    "EXAMPLES = 581012\n",
    "TEST_EXAMPLES = int(0.15 * EXAMPLES)\n",
    "TRAIN_EXAMPLES = EXAMPLES - TEST_EXAMPLES\n",
    "\n",
    "BATCH_SIZE = 64\n",
    "\n",
    "BATCHES = int(TRAIN_EXAMPLES / BATCH_SIZE)\n",
    "STEPS_PER_EPOCH = BATCHES\n",
    "EPOCHS = int(BATCHES / STEPS_PER_EPOCH) * 10\n",
    "print(f\"TEST_EXAMPLES: {TEST_EXAMPLES}, TRAIN_EXAMPLES: {TRAIN_EXAMPLES}, BATCHES: {BATCHES}, EPOCHS: {EPOCHS}\")"
   ]
  },
  {
   "cell_type": "code",
   "execution_count": null,
   "id": "56c31a5a",
   "metadata": {},
   "outputs": [],
   "source": [
    "# split to training and testing dataset\n",
    "\n",
    "test_dataset = dataset.take(TEST_EXAMPLES).batch(BATCH_SIZE)\n",
    "train_dataset = dataset.skip(TEST_EXAMPLES).batch(BATCH_SIZE)"
   ]
  },
  {
   "cell_type": "code",
   "execution_count": null,
   "id": "2d97d2c6",
   "metadata": {},
   "outputs": [],
   "source": [
    "# build model\n",
    "\n",
    "model = tf.keras.Sequential([\n",
    "    feature_layer,\n",
    "    tf.keras.layers.Dense(256),\n",
    "    tf.keras.layers.Dense(16),\n",
    "    tf.keras.layers.Dense(8),\n",
    "    tf.keras.layers.Dense(4, activation=tf.nn.softmax)\n",
    "])"
   ]
  },
  {
   "cell_type": "code",
   "execution_count": null,
   "id": "514191ed",
   "metadata": {},
   "outputs": [],
   "source": [
    "# compile\n",
    "\n",
    "model.compile(\n",
    "    loss=\"sparse_categorical_crossentropy\", \n",
    "    optimizer=tf.keras.optimizers.Adam(), \n",
    "    metrics=[\"accuracy\", \"mae\", \"mse\"]\n",
    ")"
   ]
  },
  {
   "cell_type": "code",
   "execution_count": null,
   "id": "d242fa67",
   "metadata": {},
   "outputs": [],
   "source": [
    "# fit\n",
    "# steps_per_epoch=? epochs=?\n",
    "\n",
    "history = model.fit(\n",
    "    train_dataset, \n",
    "    steps_per_epoch=STEPS_PER_EPOCH, \n",
    "    epochs=EPOCHS, \n",
    "    verbose=0\n",
    ") "
   ]
  },
  {
   "cell_type": "code",
   "execution_count": null,
   "id": "f0c4a40d",
   "metadata": {},
   "outputs": [],
   "source": [
    "# inspect model\n",
    "\n",
    "model.summary()"
   ]
  },
  {
   "cell_type": "code",
   "execution_count": null,
   "id": "59804ad7",
   "metadata": {},
   "outputs": [],
   "source": [
    "import matplotlib.pyplot as plt\n",
    "import pandas as pd\n",
    "\n",
    "def plot_history(history):\n",
    "    hist = pd.DataFrame(history.history)\n",
    "    hist[\"epoch\"] = history.epoch\n",
    "    \n",
    "    print(hist.columns)\n",
    "    \n",
    "    plt.figure()\n",
    "    plt.xlabel(\"epoch\")\n",
    "    plt.ylabel(\"loss\")\n",
    "    plt.plot(hist[\"epoch\"], hist[\"loss\"], label=\"Loss\")\n",
    "    plt.legend()\n",
    "    plt.ylim([0, 10])\n",
    "    \n",
    "    plt.figure()\n",
    "    plt.xlabel(\"epoch\")\n",
    "    plt.ylabel(\"accuracy\")\n",
    "    plt.plot(hist[\"epoch\"], hist[\"accuracy\"], label=\"Accuracy\")\n",
    "    plt.legend()\n",
    "    plt.ylim([0, 2])\n",
    "    \n",
    "    plt.figure()\n",
    "    plt.xlabel(\"epoch\")\n",
    "    plt.ylabel(\"mae\")\n",
    "    plt.plot(hist[\"epoch\"], hist[\"mae\"], label=\"mae\")\n",
    "    plt.legend()\n",
    "    plt.ylim([0, 4])    \n",
    "    \n",
    "    plt.figure()\n",
    "    plt.xlabel(\"epoch\")\n",
    "    plt.ylabel(\"mse\")\n",
    "    plt.plot(hist[\"epoch\"], hist[\"mse\"], label=\"mse\")\n",
    "    plt.legend()\n",
    "    plt.ylim([0, 8])    \n",
    "    \n",
    "plot_history(history)"
   ]
  },
  {
   "cell_type": "code",
   "execution_count": null,
   "id": "3a5eb740",
   "metadata": {},
   "outputs": [],
   "source": [
    "evaluation_result = model.evaluate(test_dataset, steps=550, verbose=0)\n",
    "\n",
    "dict(zip(model.metrics_names, evaluation_result))"
   ]
  },
  {
   "cell_type": "code",
   "execution_count": null,
   "id": "aee56f8f",
   "metadata": {},
   "outputs": [],
   "source": [
    "test_predictions = model.predict(test_dataset)\n",
    "\n",
    "print(f\"test_predictions: {len(test_predictions)} ({test_predictions.shape})\")\n",
    "print(f\"test_predictions: {test_predictions[0]}\")\n",
    "print(f\"test_predictions: {test_predictions[1]}\")\n",
    "print(f\"test_predictions: {test_predictions[2]}\")\n",
    "print(f\"test_predictions: {test_predictions[3]}\")\n",
    "\n",
    "test_labels = []\n",
    "\n",
    "for _, label in test_dataset.as_numpy_iterator():\n",
    "    test_labels.append(label)\n",
    "    \n",
    "test_labels = [x for xs in test_labels for x in xs]\n",
    "\n",
    "print(f\"test_labels: {len(test_labels)} ({type(test_labels)})\")\n",
    "print(f\"test_labels: {test_labels[0]}\")\n",
    "print(f\"test_labels: {test_labels[1]}\")\n",
    "print(f\"test_labels: {test_labels[2]}\")\n",
    "print(f\"test_labels: {test_labels[3]}\")\n",
    "\n",
    "    \n",
    "#print(f\"test_predictions: {len(test_predictions)} ({test_predictions.shape}), test_labels: {len(test_labels)} ({type(test_labels)})\")\n",
    "\n",
    "#plt.scatter(test_labels, test_predictions)\n",
    "#plt.xlabel(\"true values\")\n",
    "#plt.ylabel(\"predictions\")\n",
    "#plt.axis(\"equal\")\n",
    "#plt.axis(\"square\")\n",
    "#plt.xlim([0, plt.xlim()[1]])\n",
    "#plt.ylim([0, plt.ylim()[1]])\n",
    "\n",
    "#_ = plt.plot([-100, 100], [-100, 100])"
   ]
  }
 ],
 "metadata": {
  "kernelspec": {
   "display_name": "Python 3 (ipykernel)",
   "language": "python",
   "name": "python3"
  },
  "language_info": {
   "codemirror_mode": {
    "name": "ipython",
    "version": 3
   },
   "file_extension": ".py",
   "mimetype": "text/x-python",
   "name": "python",
   "nbconvert_exporter": "python",
   "pygments_lexer": "ipython3",
   "version": "3.10.5"
  }
 },
 "nbformat": 4,
 "nbformat_minor": 5
}
