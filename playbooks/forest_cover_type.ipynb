{
 "cells": [
  {
   "cell_type": "code",
   "execution_count": 1,
   "id": "39d3b2f3",
   "metadata": {},
   "outputs": [
    {
     "name": "stdout",
     "output_type": "stream",
     "text": [
      "Defaulting to user installation because normal site-packages is not writeable\n",
      "Requirement already satisfied: tensorflow in /home/adrian/.local/lib/python3.10/site-packages (2.9.1)\n",
      "Requirement already satisfied: absl-py>=1.0.0 in /home/adrian/.local/lib/python3.10/site-packages (from tensorflow) (1.1.0)\n",
      "Requirement already satisfied: astunparse>=1.6.0 in /home/adrian/.local/lib/python3.10/site-packages (from tensorflow) (1.6.3)\n",
      "Requirement already satisfied: flatbuffers<2,>=1.12 in /home/adrian/.local/lib/python3.10/site-packages (from tensorflow) (1.12)\n",
      "Requirement already satisfied: gast<=0.4.0,>=0.2.1 in /home/adrian/.local/lib/python3.10/site-packages (from tensorflow) (0.4.0)\n",
      "Requirement already satisfied: google-pasta>=0.1.1 in /home/adrian/.local/lib/python3.10/site-packages (from tensorflow) (0.2.0)\n",
      "Requirement already satisfied: grpcio<2.0,>=1.24.3 in /home/adrian/.local/lib/python3.10/site-packages (from tensorflow) (1.46.3)\n",
      "Requirement already satisfied: h5py>=2.9.0 in /home/adrian/.local/lib/python3.10/site-packages (from tensorflow) (3.7.0)\n",
      "Requirement already satisfied: keras<2.10.0,>=2.9.0rc0 in /home/adrian/.local/lib/python3.10/site-packages (from tensorflow) (2.9.0)\n",
      "Requirement already satisfied: keras-preprocessing>=1.1.1 in /home/adrian/.local/lib/python3.10/site-packages (from tensorflow) (1.1.2)\n",
      "Requirement already satisfied: libclang>=13.0.0 in /home/adrian/.local/lib/python3.10/site-packages (from tensorflow) (14.0.1)\n",
      "Requirement already satisfied: numpy>=1.20 in /home/adrian/.local/lib/python3.10/site-packages (from tensorflow) (1.22.4)\n",
      "Requirement already satisfied: opt-einsum>=2.3.2 in /home/adrian/.local/lib/python3.10/site-packages (from tensorflow) (3.3.0)\n",
      "Requirement already satisfied: packaging in /usr/lib/python3.10/site-packages (from tensorflow) (21.3)\n",
      "Requirement already satisfied: protobuf<3.20,>=3.9.2 in /home/adrian/.local/lib/python3.10/site-packages (from tensorflow) (3.19.4)\n",
      "Requirement already satisfied: setuptools in /usr/lib/python3.10/site-packages (from tensorflow) (61.3.1)\n",
      "Requirement already satisfied: six>=1.12.0 in /usr/lib/python3.10/site-packages (from tensorflow) (1.16.0)\n",
      "Requirement already satisfied: tensorboard<2.10,>=2.9 in /home/adrian/.local/lib/python3.10/site-packages (from tensorflow) (2.9.1)\n",
      "Requirement already satisfied: tensorflow-io-gcs-filesystem>=0.23.1 in /home/adrian/.local/lib/python3.10/site-packages (from tensorflow) (0.26.0)\n",
      "Requirement already satisfied: tensorflow-estimator<2.10.0,>=2.9.0rc0 in /home/adrian/.local/lib/python3.10/site-packages (from tensorflow) (2.9.0)\n",
      "Requirement already satisfied: termcolor>=1.1.0 in /home/adrian/.local/lib/python3.10/site-packages (from tensorflow) (1.1.0)\n",
      "Requirement already satisfied: typing-extensions>=3.6.6 in /home/adrian/.local/lib/python3.10/site-packages (from tensorflow) (4.2.0)\n",
      "Requirement already satisfied: wrapt>=1.11.0 in /home/adrian/.local/lib/python3.10/site-packages (from tensorflow) (1.14.1)\n",
      "Requirement already satisfied: wheel<1.0,>=0.23.0 in /usr/lib/python3.10/site-packages (from astunparse>=1.6.0->tensorflow) (0.37.1)\n",
      "Requirement already satisfied: google-auth<3,>=1.6.3 in /home/adrian/.local/lib/python3.10/site-packages (from tensorboard<2.10,>=2.9->tensorflow) (2.8.0)\n",
      "Requirement already satisfied: google-auth-oauthlib<0.5,>=0.4.1 in /home/adrian/.local/lib/python3.10/site-packages (from tensorboard<2.10,>=2.9->tensorflow) (0.4.6)\n",
      "Requirement already satisfied: markdown>=2.6.8 in /usr/lib/python3.10/site-packages (from tensorboard<2.10,>=2.9->tensorflow) (3.3.7)\n",
      "Requirement already satisfied: requests<3,>=2.21.0 in /usr/lib/python3.10/site-packages (from tensorboard<2.10,>=2.9->tensorflow) (2.27.1)\n",
      "Requirement already satisfied: tensorboard-data-server<0.7.0,>=0.6.0 in /home/adrian/.local/lib/python3.10/site-packages (from tensorboard<2.10,>=2.9->tensorflow) (0.6.1)\n",
      "Requirement already satisfied: tensorboard-plugin-wit>=1.6.0 in /home/adrian/.local/lib/python3.10/site-packages (from tensorboard<2.10,>=2.9->tensorflow) (1.8.1)\n",
      "Requirement already satisfied: werkzeug>=1.0.1 in /home/adrian/.local/lib/python3.10/site-packages (from tensorboard<2.10,>=2.9->tensorflow) (2.1.2)\n",
      "Requirement already satisfied: pyparsing!=3.0.5,>=2.0.2 in /usr/lib/python3.10/site-packages (from packaging->tensorflow) (3.0.9)\n",
      "Requirement already satisfied: cachetools<6.0,>=2.0.0 in /home/adrian/.local/lib/python3.10/site-packages (from google-auth<3,>=1.6.3->tensorboard<2.10,>=2.9->tensorflow) (5.2.0)\n",
      "Requirement already satisfied: pyasn1-modules>=0.2.1 in /home/adrian/.local/lib/python3.10/site-packages (from google-auth<3,>=1.6.3->tensorboard<2.10,>=2.9->tensorflow) (0.2.8)\n",
      "Requirement already satisfied: rsa<5,>=3.1.4 in /usr/lib/python3.10/site-packages (from google-auth<3,>=1.6.3->tensorboard<2.10,>=2.9->tensorflow) (4.8)\n",
      "Requirement already satisfied: requests-oauthlib>=0.7.0 in /home/adrian/.local/lib/python3.10/site-packages (from google-auth-oauthlib<0.5,>=0.4.1->tensorboard<2.10,>=2.9->tensorflow) (1.3.1)\n",
      "Requirement already satisfied: chardet>=3.0.2 in /usr/lib/python3.10/site-packages (from requests<3,>=2.21.0->tensorboard<2.10,>=2.9->tensorflow) (4.0.0)\n",
      "Requirement already satisfied: idna>=2.5 in /usr/lib/python3.10/site-packages (from requests<3,>=2.21.0->tensorboard<2.10,>=2.9->tensorflow) (3.3)\n",
      "Requirement already satisfied: urllib3>=1.21.1 in /usr/lib/python3.10/site-packages (from requests<3,>=2.21.0->tensorboard<2.10,>=2.9->tensorflow) (1.26.9)\n",
      "Requirement already satisfied: pyasn1<0.5.0,>=0.4.6 in /usr/lib/python3.10/site-packages (from pyasn1-modules>=0.2.1->google-auth<3,>=1.6.3->tensorboard<2.10,>=2.9->tensorflow) (0.4.8)\n",
      "Requirement already satisfied: oauthlib>=3.0.0 in /home/adrian/.local/lib/python3.10/site-packages (from requests-oauthlib>=0.7.0->google-auth-oauthlib<0.5,>=0.4.1->tensorboard<2.10,>=2.9->tensorflow) (3.2.0)\n",
      "Defaulting to user installation because normal site-packages is not writeable\n",
      "Requirement already satisfied: matplotlib in /home/adrian/.local/lib/python3.10/site-packages (3.5.2)\n",
      "Requirement already satisfied: cycler>=0.10 in /home/adrian/.local/lib/python3.10/site-packages (from matplotlib) (0.11.0)\n",
      "Requirement already satisfied: fonttools>=4.22.0 in /home/adrian/.local/lib/python3.10/site-packages (from matplotlib) (4.34.4)\n",
      "Requirement already satisfied: kiwisolver>=1.0.1 in /home/adrian/.local/lib/python3.10/site-packages (from matplotlib) (1.4.3)\n",
      "Requirement already satisfied: numpy>=1.17 in /home/adrian/.local/lib/python3.10/site-packages (from matplotlib) (1.22.4)\n",
      "Requirement already satisfied: packaging>=20.0 in /usr/lib/python3.10/site-packages (from matplotlib) (21.3)\n",
      "Requirement already satisfied: pillow>=6.2.0 in /usr/lib/python3.10/site-packages (from matplotlib) (9.2.0)\n",
      "Requirement already satisfied: pyparsing>=2.2.1 in /usr/lib/python3.10/site-packages (from matplotlib) (3.0.9)\n",
      "Requirement already satisfied: python-dateutil>=2.7 in /usr/lib/python3.10/site-packages (from matplotlib) (2.8.2)\n",
      "Requirement already satisfied: six>=1.5 in /usr/lib/python3.10/site-packages (from python-dateutil>=2.7->matplotlib) (1.16.0)\n",
      "Defaulting to user installation because normal site-packages is not writeable\n",
      "Requirement already satisfied: pandas in /home/adrian/.local/lib/python3.10/site-packages (1.4.3)\n",
      "Requirement already satisfied: python-dateutil>=2.8.1 in /usr/lib/python3.10/site-packages (from pandas) (2.8.2)\n",
      "Requirement already satisfied: pytz>=2020.1 in /usr/lib/python3.10/site-packages (from pandas) (2022.1)\n",
      "Requirement already satisfied: numpy>=1.21.0 in /home/adrian/.local/lib/python3.10/site-packages (from pandas) (1.22.4)\n",
      "Requirement already satisfied: six>=1.5 in /usr/lib/python3.10/site-packages (from python-dateutil>=2.8.1->pandas) (1.16.0)\n"
     ]
    }
   ],
   "source": [
    "!pip install tensorflow\n",
    "!pip install matplotlib\n",
    "!pip install pandas"
   ]
  },
  {
   "cell_type": "code",
   "execution_count": 2,
   "id": "1506e9ea",
   "metadata": {},
   "outputs": [
    {
     "name": "stderr",
     "output_type": "stream",
     "text": [
      "2022-07-13 09:38:43.192336: W tensorflow/stream_executor/platform/default/dso_loader.cc:64] Could not load dynamic library 'libcudart.so.11.0'; dlerror: libcudart.so.11.0: cannot open shared object file: No such file or directory\n",
      "2022-07-13 09:38:43.192383: I tensorflow/stream_executor/cuda/cudart_stub.cc:29] Ignore above cudart dlerror if you do not have a GPU set up on your machine.\n"
     ]
    }
   ],
   "source": [
    "import tensorflow as tf"
   ]
  },
  {
   "cell_type": "code",
   "execution_count": 3,
   "id": "443d675f",
   "metadata": {},
   "outputs": [
    {
     "name": "stderr",
     "output_type": "stream",
     "text": [
      "2022-07-13 09:38:46.142489: W tensorflow/stream_executor/platform/default/dso_loader.cc:64] Could not load dynamic library 'libcuda.so.1'; dlerror: libcuda.so.1: cannot open shared object file: No such file or directory\n",
      "2022-07-13 09:38:46.142510: W tensorflow/stream_executor/cuda/cuda_driver.cc:269] failed call to cuInit: UNKNOWN ERROR (303)\n",
      "2022-07-13 09:38:46.142530: I tensorflow/stream_executor/cuda/cuda_diagnostics.cc:156] kernel driver does not appear to be running on this host (adrian-pc): /proc/driver/nvidia/version does not exist\n",
      "2022-07-13 09:38:46.144283: I tensorflow/core/platform/cpu_feature_guard.cc:193] This TensorFlow binary is optimized with oneAPI Deep Neural Network Library (oneDNN) to use the following CPU instructions in performance-critical operations:  AVX2 FMA\n",
      "To enable them in other operations, rebuild TensorFlow with the appropriate compiler flags.\n"
     ]
    }
   ],
   "source": [
    "# read dataset\n",
    "\n",
    "# dataset origin https://archive.ics.uci.edu/ml/datasets/covertype\n",
    "file_path = \"/home/adrian/Pobrane/covtype.data\"\n",
    "\n",
    "defaults = [tf.int32] * 55 # number of columns\n",
    "dataset = tf.data.experimental.CsvDataset(file_path, defaults)\n",
    "\n",
    "# lets take a look\n",
    "# print(list(dataset.take(1)))"
   ]
  },
  {
   "cell_type": "code",
   "execution_count": 4,
   "id": "0a5c439c",
   "metadata": {},
   "outputs": [],
   "source": [
    "# split to features and labels \n",
    "\n",
    "columns = [\n",
    "    \"Elevation\", \n",
    "    \"Aspect\", \n",
    "    \"Slope\", \n",
    "    \"Horizontal_Distance_To_Hydrology\", \n",
    "    \"Vertical_Distance_To_Hydrology\", \n",
    "    \"Horizontal_Distance_To_Roadways\", \n",
    "    \"Hillshade_9am\",\n",
    "    \"Hillshade_Noon\", \n",
    "    \"Hillshade_3pm\", \n",
    "    \"Horizontal_Distance_To_Fire_Points\", \n",
    "    \"Soil_Type\", \n",
    "    \"Cover_Type\"\n",
    "    ]\n",
    "\n",
    "def _parse_csv_data(*vals):\n",
    "    \n",
    "    soil_type = tf.convert_to_tensor(vals[14:54])\n",
    "    \n",
    "    feature_vals = (*vals[:10], soil_type, vals[54])\n",
    "    features = dict(zip(columns, feature_vals))\n",
    "    \n",
    "    label = tf.argmax(vals[10:14], axis=0)\n",
    "    \n",
    "    return features, label"
   ]
  },
  {
   "cell_type": "code",
   "execution_count": 5,
   "id": "2255e86b",
   "metadata": {},
   "outputs": [
    {
     "name": "stdout",
     "output_type": "stream",
     "text": [
      "[({'Elevation': <tf.Tensor: shape=(), dtype=int32, numpy=2596>, 'Aspect': <tf.Tensor: shape=(), dtype=int32, numpy=51>, 'Slope': <tf.Tensor: shape=(), dtype=int32, numpy=3>, 'Horizontal_Distance_To_Hydrology': <tf.Tensor: shape=(), dtype=int32, numpy=258>, 'Vertical_Distance_To_Hydrology': <tf.Tensor: shape=(), dtype=int32, numpy=0>, 'Horizontal_Distance_To_Roadways': <tf.Tensor: shape=(), dtype=int32, numpy=510>, 'Hillshade_9am': <tf.Tensor: shape=(), dtype=int32, numpy=221>, 'Hillshade_Noon': <tf.Tensor: shape=(), dtype=int32, numpy=232>, 'Hillshade_3pm': <tf.Tensor: shape=(), dtype=int32, numpy=148>, 'Horizontal_Distance_To_Fire_Points': <tf.Tensor: shape=(), dtype=int32, numpy=6279>, 'Soil_Type': <tf.Tensor: shape=(40,), dtype=int32, numpy=\n",
      "array([0, 0, 0, 0, 0, 0, 0, 0, 0, 0, 0, 0, 0, 0, 0, 0, 0, 0, 0, 0, 0, 0,\n",
      "       0, 0, 0, 0, 0, 0, 1, 0, 0, 0, 0, 0, 0, 0, 0, 0, 0, 0], dtype=int32)>, 'Cover_Type': <tf.Tensor: shape=(), dtype=int32, numpy=5>}, <tf.Tensor: shape=(), dtype=int64, numpy=0>)]\n"
     ]
    }
   ],
   "source": [
    "# check \n",
    "\n",
    "dataset = dataset.map(_parse_csv_data)\n",
    "print(list(dataset.take(1)))\n",
    "\n",
    "# dataset = dataset.batch(64)\n",
    "#print(list(dataset.take(1)))"
   ]
  },
  {
   "cell_type": "code",
   "execution_count": 6,
   "id": "5e125022",
   "metadata": {},
   "outputs": [],
   "source": [
    "# define features\n",
    "\n",
    "numeric_columns = [\n",
    "    \"Elevation\", \n",
    "    \"Aspect\", \n",
    "    \"Slope\", \n",
    "    \"Horizontal_Distance_To_Hydrology\", \n",
    "    \"Vertical_Distance_To_Hydrology\", \n",
    "    \"Horizontal_Distance_To_Roadways\", \n",
    "    \"Hillshade_9am\",\n",
    "    \"Hillshade_Noon\", \n",
    "    \"Hillshade_3pm\", \n",
    "    \"Horizontal_Distance_To_Fire_Points\", \n",
    "]\n",
    "numeric_features = [tf.feature_column.numeric_column(col) for col in numeric_columns]\n",
    "\n",
    "cover_type = tf.feature_column.categorical_column_with_identity(\"Cover_Type\", num_buckets=8)\n",
    "cover_embedding = tf.feature_column.embedding_column(cover_type, dimension=10)\n",
    "\n",
    "soil_type = tf.feature_column.numeric_column(\"Soil_Type\", shape=(40,))\n"
   ]
  },
  {
   "cell_type": "code",
   "execution_count": 7,
   "id": "cd71831a",
   "metadata": {},
   "outputs": [],
   "source": [
    "# define 1st layer for the model\n",
    "features = numeric_features + [soil_type, cover_embedding]\n",
    "feature_layer = tf.keras.layers.DenseFeatures(features)"
   ]
  },
  {
   "cell_type": "code",
   "execution_count": 8,
   "id": "56c31a5a",
   "metadata": {},
   "outputs": [],
   "source": [
    "# split to training and testing dataset\n",
    "instances = 581012\n",
    "test_dataset_size = int(0.15 * instances)\n",
    "#print(test_dataset_size)\n",
    "\n",
    "test_dataset = dataset.take(test_dataset_size).batch(64)\n",
    "train_dataset = dataset.skip(test_dataset_size).batch(64)"
   ]
  },
  {
   "cell_type": "code",
   "execution_count": 9,
   "id": "2d97d2c6",
   "metadata": {},
   "outputs": [],
   "source": [
    "# building model\n",
    "model = tf.keras.Sequential([\n",
    "    feature_layer,\n",
    "    tf.keras.layers.Dense(256),\n",
    "    tf.keras.layers.Dense(16),\n",
    "    tf.keras.layers.Dense(8),\n",
    "    tf.keras.layers.Dense(4, activation=tf.nn.softmax)\n",
    "])"
   ]
  },
  {
   "cell_type": "code",
   "execution_count": 10,
   "id": "514191ed",
   "metadata": {},
   "outputs": [],
   "source": [
    "optimizer = tf.keras.optimizers.Adam()\n",
    "    \n",
    "model.compile(loss=\"sparse_categorical_crossentropy\", optimizer=optimizer, metrics=[\"accuracy\"])"
   ]
  },
  {
   "cell_type": "code",
   "execution_count": 11,
   "id": "d242fa67",
   "metadata": {},
   "outputs": [
    {
     "name": "stdout",
     "output_type": "stream",
     "text": [
      "WARNING:tensorflow:Layers in a Sequential model should only have a single input tensor. Received: inputs={'Elevation': <tf.Tensor 'IteratorGetNext:2' shape=(None,) dtype=int32>, 'Aspect': <tf.Tensor 'IteratorGetNext:0' shape=(None,) dtype=int32>, 'Slope': <tf.Tensor 'IteratorGetNext:9' shape=(None,) dtype=int32>, 'Horizontal_Distance_To_Hydrology': <tf.Tensor 'IteratorGetNext:7' shape=(None,) dtype=int32>, 'Vertical_Distance_To_Hydrology': <tf.Tensor 'IteratorGetNext:11' shape=(None,) dtype=int32>, 'Horizontal_Distance_To_Roadways': <tf.Tensor 'IteratorGetNext:8' shape=(None,) dtype=int32>, 'Hillshade_9am': <tf.Tensor 'IteratorGetNext:4' shape=(None,) dtype=int32>, 'Hillshade_Noon': <tf.Tensor 'IteratorGetNext:5' shape=(None,) dtype=int32>, 'Hillshade_3pm': <tf.Tensor 'IteratorGetNext:3' shape=(None,) dtype=int32>, 'Horizontal_Distance_To_Fire_Points': <tf.Tensor 'IteratorGetNext:6' shape=(None,) dtype=int32>, 'Soil_Type': <tf.Tensor 'IteratorGetNext:10' shape=(None, 40) dtype=int32>, 'Cover_Type': <tf.Tensor 'IteratorGetNext:1' shape=(None,) dtype=int32>}. Consider rewriting this model with the Functional API.\n",
      "WARNING:tensorflow:Layers in a Sequential model should only have a single input tensor. Received: inputs={'Elevation': <tf.Tensor 'IteratorGetNext:2' shape=(None,) dtype=int32>, 'Aspect': <tf.Tensor 'IteratorGetNext:0' shape=(None,) dtype=int32>, 'Slope': <tf.Tensor 'IteratorGetNext:9' shape=(None,) dtype=int32>, 'Horizontal_Distance_To_Hydrology': <tf.Tensor 'IteratorGetNext:7' shape=(None,) dtype=int32>, 'Vertical_Distance_To_Hydrology': <tf.Tensor 'IteratorGetNext:11' shape=(None,) dtype=int32>, 'Horizontal_Distance_To_Roadways': <tf.Tensor 'IteratorGetNext:8' shape=(None,) dtype=int32>, 'Hillshade_9am': <tf.Tensor 'IteratorGetNext:4' shape=(None,) dtype=int32>, 'Hillshade_Noon': <tf.Tensor 'IteratorGetNext:5' shape=(None,) dtype=int32>, 'Hillshade_3pm': <tf.Tensor 'IteratorGetNext:3' shape=(None,) dtype=int32>, 'Horizontal_Distance_To_Fire_Points': <tf.Tensor 'IteratorGetNext:6' shape=(None,) dtype=int32>, 'Soil_Type': <tf.Tensor 'IteratorGetNext:10' shape=(None, 40) dtype=int32>, 'Cover_Type': <tf.Tensor 'IteratorGetNext:1' shape=(None,) dtype=int32>}. Consider rewriting this model with the Functional API.\n",
      "WARNING:tensorflow:Your input ran out of data; interrupting training. Make sure that your dataset or generator can generate at least `steps_per_epoch * epochs` batches (in this case, 10000 batches). You may need to use the repeat() function when building your dataset.\n"
     ]
    }
   ],
   "source": [
    "EPOCHS = 1000\n",
    "history = model.fit(train_dataset, steps_per_epoch=10, epochs=EPOCHS, verbose=0)"
   ]
  },
  {
   "cell_type": "code",
   "execution_count": 12,
   "id": "f0c4a40d",
   "metadata": {},
   "outputs": [
    {
     "name": "stdout",
     "output_type": "stream",
     "text": [
      "Model: \"sequential\"\n",
      "_________________________________________________________________\n",
      " Layer (type)                Output Shape              Param #   \n",
      "=================================================================\n",
      " dense_features (DenseFeatur  multiple                 80        \n",
      " es)                                                             \n",
      "                                                                 \n",
      " dense (Dense)               multiple                  15616     \n",
      "                                                                 \n",
      " dense_1 (Dense)             multiple                  4112      \n",
      "                                                                 \n",
      " dense_2 (Dense)             multiple                  136       \n",
      "                                                                 \n",
      " dense_3 (Dense)             multiple                  36        \n",
      "                                                                 \n",
      "=================================================================\n",
      "Total params: 19,980\n",
      "Trainable params: 19,980\n",
      "Non-trainable params: 0\n",
      "_________________________________________________________________\n"
     ]
    }
   ],
   "source": [
    "# inspect model\n",
    "\n",
    "model.summary()"
   ]
  },
  {
   "cell_type": "code",
   "execution_count": 13,
   "id": "59804ad7",
   "metadata": {},
   "outputs": [
    {
     "name": "stdout",
     "output_type": "stream",
     "text": [
      "Index(['loss', 'accuracy', 'epoch'], dtype='object')\n"
     ]
    },
    {
     "data": {
      "image/png": "[encoded data removed]",
      "text/plain": [
       "<Figure size 432x288 with 1 Axes>"
      ]
     },
     "metadata": {
      "needs_background": "light"
     },
     "output_type": "display_data"
    },
    {
     "data": {
      "image/png": "[encoded data removed]",
      "text/plain": [
       "<Figure size 432x288 with 1 Axes>"
      ]
     },
     "metadata": {
      "needs_background": "light"
     },
     "output_type": "display_data"
    }
   ],
   "source": [
    "import matplotlib.pyplot as plt\n",
    "import pandas as pd\n",
    "\n",
    "def plot_history(history):\n",
    "    hist = pd.DataFrame(history.history)\n",
    "    hist[\"epoch\"] = history.epoch\n",
    "    \n",
    "    print(hist.columns)\n",
    "    \n",
    "    plt.figure()\n",
    "    plt.xlabel(\"epoch\")\n",
    "    plt.ylabel(\"loss\")\n",
    "    \n",
    "    plt.plot(hist[\"epoch\"], hist[\"loss\"], label=\"Loss\")\n",
    "    \n",
    "    \n",
    "    plt.legend()\n",
    "    plt.ylim([0, 10])\n",
    "    \n",
    "    plt.figure()\n",
    "    plt.xlabel(\"epoch\")\n",
    "    plt.ylabel(\"accuracy\")\n",
    "    \n",
    "    plt.plot(hist[\"epoch\"], hist[\"accuracy\"], label=\"Accuracy\")\n",
    "    \n",
    "    plt.legend()\n",
    "    plt.ylim([0, 2])\n",
    "    \n",
    "plot_history(history)"
   ]
  },
  {
   "cell_type": "code",
   "execution_count": 14,
   "id": "3a5eb740",
   "metadata": {},
   "outputs": [
    {
     "name": "stdout",
     "output_type": "stream",
     "text": [
      "WARNING:tensorflow:Layers in a Sequential model should only have a single input tensor. Received: inputs={'Elevation': <tf.Tensor 'IteratorGetNext:2' shape=(None,) dtype=int32>, 'Aspect': <tf.Tensor 'IteratorGetNext:0' shape=(None,) dtype=int32>, 'Slope': <tf.Tensor 'IteratorGetNext:9' shape=(None,) dtype=int32>, 'Horizontal_Distance_To_Hydrology': <tf.Tensor 'IteratorGetNext:7' shape=(None,) dtype=int32>, 'Vertical_Distance_To_Hydrology': <tf.Tensor 'IteratorGetNext:11' shape=(None,) dtype=int32>, 'Horizontal_Distance_To_Roadways': <tf.Tensor 'IteratorGetNext:8' shape=(None,) dtype=int32>, 'Hillshade_9am': <tf.Tensor 'IteratorGetNext:4' shape=(None,) dtype=int32>, 'Hillshade_Noon': <tf.Tensor 'IteratorGetNext:5' shape=(None,) dtype=int32>, 'Hillshade_3pm': <tf.Tensor 'IteratorGetNext:3' shape=(None,) dtype=int32>, 'Horizontal_Distance_To_Fire_Points': <tf.Tensor 'IteratorGetNext:6' shape=(None,) dtype=int32>, 'Soil_Type': <tf.Tensor 'IteratorGetNext:10' shape=(None, 40) dtype=int32>, 'Cover_Type': <tf.Tensor 'IteratorGetNext:1' shape=(None,) dtype=int32>}. Consider rewriting this model with the Functional API.\n"
     ]
    },
    {
     "data": {
      "text/plain": [
       "{'loss': 51.50634765625, 'accuracy': 0.4762499928474426}"
      ]
     },
     "execution_count": 14,
     "metadata": {},
     "output_type": "execute_result"
    }
   ],
   "source": [
    "evaluation_result = model.evaluate(test_dataset, steps=550, verbose=0)\n",
    "\n",
    "dict(zip(model.metrics_names, evaluation_result))"
   ]
  },
  {
   "cell_type": "code",
   "execution_count": 15,
   "id": "aee56f8f",
   "metadata": {},
   "outputs": [
    {
     "name": "stdout",
     "output_type": "stream",
     "text": [
      "WARNING:tensorflow:Layers in a Sequential model should only have a single input tensor. Received: inputs={'Elevation': <tf.Tensor 'IteratorGetNext:2' shape=(None,) dtype=int32>, 'Aspect': <tf.Tensor 'IteratorGetNext:0' shape=(None,) dtype=int32>, 'Slope': <tf.Tensor 'IteratorGetNext:9' shape=(None,) dtype=int32>, 'Horizontal_Distance_To_Hydrology': <tf.Tensor 'IteratorGetNext:7' shape=(None,) dtype=int32>, 'Vertical_Distance_To_Hydrology': <tf.Tensor 'IteratorGetNext:11' shape=(None,) dtype=int32>, 'Horizontal_Distance_To_Roadways': <tf.Tensor 'IteratorGetNext:8' shape=(None,) dtype=int32>, 'Hillshade_9am': <tf.Tensor 'IteratorGetNext:4' shape=(None,) dtype=int32>, 'Hillshade_Noon': <tf.Tensor 'IteratorGetNext:5' shape=(None,) dtype=int32>, 'Hillshade_3pm': <tf.Tensor 'IteratorGetNext:3' shape=(None,) dtype=int32>, 'Horizontal_Distance_To_Fire_Points': <tf.Tensor 'IteratorGetNext:6' shape=(None,) dtype=int32>, 'Soil_Type': <tf.Tensor 'IteratorGetNext:10' shape=(None, 40) dtype=int32>, 'Cover_Type': <tf.Tensor 'IteratorGetNext:1' shape=(None,) dtype=int32>}. Consider rewriting this model with the Functional API.\n",
      "1362/1362 [==============================] - 5s 4ms/step\n",
      "test_predictions: 87151 ((87151, 4)) [9.9999994e-01 1.9327642e-14 0.0000000e+00 0.0000000e+00]\n"
     ]
    }
   ],
   "source": [
    "def _extract_label(features, label):\n",
    "    return label\n",
    "\n",
    "\n",
    "\n",
    "\n",
    "test_predictions = model.predict(test_dataset)\n",
    "\n",
    "print(f\"test_predictions: {len(test_predictions)} ({test_predictions.shape}) {test_predictions[0]}\")\n",
    "\n",
    "test_labels = []\n",
    "\n",
    "for _, label in test_dataset.as_numpy_iterator():\n",
    "    test_labels.append(label)\n",
    "    \n",
    "test_labels = [x for xs in test_labels for x in xs]\n",
    "\n",
    "\n",
    "    \n",
    "    \n",
    "#print(f\"test_predictions: {len(test_predictions)} ({test_predictions.shape}), test_labels: {len(test_labels)} ({type(test_labels)})\")\n",
    "\n",
    "#plt.scatter(test_labels, test_predictions)\n",
    "#plt.xlabel(\"true values\")\n",
    "#plt.ylabel(\"predictions\")\n",
    "#plt.axis(\"equal\")\n",
    "#plt.axis(\"square\")\n",
    "#plt.xlim([0, plt.xlim()[1]])\n",
    "#plt.ylim([0, plt.ylim()[1]])\n",
    "\n",
    "#_ = plt.plot([-100, 100], [-100, 100])"
   ]
  },
  {
   "cell_type": "code",
   "execution_count": null,
   "id": "71e91cb7",
   "metadata": {},
   "outputs": [],
   "source": []
  }
 ],
 "metadata": {
  "kernelspec": {
   "display_name": "Python 3 (ipykernel)",
   "language": "python",
   "name": "python3"
  },
  "language_info": {
   "codemirror_mode": {
    "name": "ipython",
    "version": 3
   },
   "file_extension": ".py",
   "mimetype": "text/x-python",
   "name": "python",
   "nbconvert_exporter": "python",
   "pygments_lexer": "ipython3",
   "version": "3.10.5"
  }
 },
 "nbformat": 4,
 "nbformat_minor": 5
}
