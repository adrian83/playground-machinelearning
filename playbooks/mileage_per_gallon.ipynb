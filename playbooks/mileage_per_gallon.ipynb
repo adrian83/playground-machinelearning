{
 "cells": [
  {
   "cell_type": "code",
   "execution_count": null,
   "id": "2c217c43",
   "metadata": {
    "scrolled": false
   },
   "outputs": [],
   "source": [
    "# install libs\n",
    "\n",
    "!pip install pandas\n",
    "!pip install seaborn\n",
    "!pip install tensorflow"
   ]
  },
  {
   "cell_type": "code",
   "execution_count": null,
   "id": "a543cd6d",
   "metadata": {},
   "outputs": [],
   "source": [
    "# import modules\n",
    "\n",
    "from __future__ import absolute_import, division, print_function\n",
    "\n",
    "import pathlib\n",
    "\n",
    "import pandas as pd\n",
    "import seaborn as sns\n",
    "import tensorflow as tf\n",
    "\n",
    "from tensorflow import keras\n",
    "from tensorflow.keras import layers\n",
    "\n",
    "print(tf.__version__)\n"
   ]
  },
  {
   "cell_type": "code",
   "execution_count": null,
   "id": "33dbc79f",
   "metadata": {},
   "outputs": [],
   "source": [
    "# get dataset\n",
    "dataset_path = keras.utils.get_file(\"auto-mpg.data\", \"https://archive.ics.uci.edu/ml/machine-learning-databases/auto-mpg/auto-mpg.data\")\n",
    "print(dataset_path)"
   ]
  },
  {
   "cell_type": "code",
   "execution_count": null,
   "id": "7b280596",
   "metadata": {},
   "outputs": [],
   "source": [
    "# read dataset\n",
    "column_names = [\"MPG\", \"Cylinders\", \"Displacement\", \"Horsepower\", \"Weight\", \"Acceleration\", \"Model Year\", \"Origin\"]\n",
    "\n",
    "raw_dataset = pd.read_csv(\n",
    "    dataset_path, \n",
    "    names=column_names, \n",
    "    na_values=\"?\", \n",
    "    comment=\"\\t\", \n",
    "    sep=\" \", \n",
    "    skipinitialspace=True)\n",
    "\n",
    "dataset = raw_dataset.copy()\n",
    "\n",
    "dataset.tail()"
   ]
  },
  {
   "cell_type": "code",
   "execution_count": null,
   "id": "0f0326f3",
   "metadata": {},
   "outputs": [],
   "source": [
    "# clean\n",
    "dataset.isna().sum()\n",
    "dataset = dataset.dropna()\n",
    "dataset.info()"
   ]
  },
  {
   "cell_type": "code",
   "execution_count": null,
   "id": "b6eb4b0b",
   "metadata": {},
   "outputs": [],
   "source": [
    "# feature engineering\n",
    "\n",
    "# one-hot\n",
    "origin = dataset.pop(\"Origin\")\n",
    "\n",
    "print(origin.unique())\n",
    "\n",
    "dataset[\"USA\"] = (origin == 1) * 1.0\n",
    "dataset[\"Europe\"] = (origin == 2) * 1.0\n",
    "dataset[\"Japan\"] = (origin == 3) * 1.0\n"
   ]
  },
  {
   "cell_type": "code",
   "execution_count": null,
   "id": "7b561f24",
   "metadata": {},
   "outputs": [],
   "source": [
    "# split data\n",
    "train_dataset = dataset.sample(frac=0.8, random_state=0)\n",
    "test_dataset = dataset.drop(train_dataset.index)"
   ]
  },
  {
   "cell_type": "code",
   "execution_count": null,
   "id": "6074ad96",
   "metadata": {},
   "outputs": [],
   "source": [
    "# inspect\n",
    "sns.pairplot(train_dataset[[\"MPG\", \"Cylinders\", \"Displacement\", \"Weight\"]], diag_kind=\"kde\")"
   ]
  },
  {
   "cell_type": "code",
   "execution_count": null,
   "id": "c06f390d",
   "metadata": {},
   "outputs": [],
   "source": [
    "train_stats = train_dataset.describe()\n",
    "train_stats.pop(\"MPG\")\n",
    "train_stats = train_stats.transpose()\n",
    "train_stats"
   ]
  },
  {
   "cell_type": "code",
   "execution_count": null,
   "id": "d6200482",
   "metadata": {},
   "outputs": [],
   "source": [
    "# spilit labels from features\n",
    "\n",
    "train_labels = train_dataset.pop(\"MPG\")\n",
    "test_labels = test_dataset.pop(\"MPG\")"
   ]
  },
  {
   "cell_type": "code",
   "execution_count": null,
   "id": "c1209c35",
   "metadata": {},
   "outputs": [],
   "source": [
    "# normalize\n",
    "# ranges of the features are too different\n",
    "\n",
    "def normalize(x):\n",
    "    return (x - train_stats[\"mean\"]) / train_stats[\"std\"]\n",
    "\n",
    "normalized_train_data = normalize(train_dataset)\n",
    "normalized_test_data = normalize(test_dataset)"
   ]
  },
  {
   "cell_type": "code",
   "execution_count": null,
   "id": "9833556b",
   "metadata": {},
   "outputs": [],
   "source": [
    "# build model\n",
    "\n",
    "def build_model():\n",
    "    model = keras.Sequential([\n",
    "        layers.Dense(64, activation=tf.nn.relu, input_shape=[len(train_dataset.keys())]),\n",
    "        layers.Dense(64, activation=tf.nn.relu),\n",
    "        layers.Dense(1)\n",
    "    ])\n",
    "    \n",
    "    optimizer = tf.keras.optimizers.RMSprop(0.001)\n",
    "    \n",
    "    model.compile(loss=\"mse\", optimizer=optimizer, metrics=[\"mae\", \"mse\"])\n",
    "    \n",
    "    return model\n",
    "\n",
    "model = build_model()"
   ]
  },
  {
   "cell_type": "code",
   "execution_count": null,
   "id": "3e176c69",
   "metadata": {},
   "outputs": [],
   "source": [
    "# inspect model\n",
    "\n",
    "model.summary()"
   ]
  },
  {
   "cell_type": "code",
   "execution_count": null,
   "id": "c3f9ce9c",
   "metadata": {},
   "outputs": [],
   "source": [
    "small_batch = normalized_train_data[:10]\n",
    "small_result = model.predict(small_batch)\n",
    "small_result"
   ]
  },
  {
   "cell_type": "code",
   "execution_count": null,
   "id": "98a7dc7c",
   "metadata": {},
   "outputs": [],
   "source": [
    "# train model\n",
    "\n",
    "EPOCHS = 1000\n",
    "\n",
    "history = model.fit(normalized_train_data, train_labels, epochs=EPOCHS, validation_split=0.2, verbose = 0)\n",
    "\n",
    "hist = pd.DataFrame(history.history)\n",
    "hist[\"epoch\"] = history.epoch\n",
    "hist.tail()"
   ]
  },
  {
   "cell_type": "code",
   "execution_count": null,
   "id": "f715af1a",
   "metadata": {},
   "outputs": [],
   "source": [
    "import matplotlib.pyplot as plt\n",
    "\n",
    "def plot_history(history):\n",
    "    hist = pd.DataFrame(history.history)\n",
    "    hist[\"epoch\"] = history.epoch\n",
    "    \n",
    "    plt.figure()\n",
    "    plt.xlabel(\"epoch\")\n",
    "    plt.ylabel(\"mean abs error (MPG)\")\n",
    "    \n",
    "    plt.plot(hist[\"epoch\"], hist[\"mae\"], label=\"Train Error\")\n",
    "    \n",
    "    plt.plot(hist[\"epoch\"], hist[\"val_mae\"], label=\"Val Error\")\n",
    "    \n",
    "    plt.legend()\n",
    "    plt.ylim([0, 5])\n",
    "    \n",
    "    plt.figure()\n",
    "    plt.xlabel(\"epoch\")\n",
    "    plt.ylabel(\"mean abs error (MPG^2)\")\n",
    "    \n",
    "    plt.plot(hist[\"epoch\"], hist[\"mse\"], label=\"Train Error\")\n",
    "    \n",
    "    plt.plot(hist[\"epoch\"], hist[\"val_mse\"], label=\"Val Error\")\n",
    "    \n",
    "    plt.legend()\n",
    "    plt.ylim([0, 20])\n",
    "    \n",
    "plot_history(history)"
   ]
  },
  {
   "cell_type": "code",
   "execution_count": null,
   "id": "74b947f3",
   "metadata": {},
   "outputs": [],
   "source": [
    "model = build_model()\n",
    "\n",
    "early_stop = keras.callbacks.EarlyStopping(monitor=\"var_loss\", patience=10)\n",
    "\n",
    "history = model.fit(normalized_train_data, train_labels, epochs=EPOCHS, \n",
    "                    validation_split=0.2, verbose = 0, callbacks=[early_stop])\n",
    "\n",
    "plot_history(history)"
   ]
  },
  {
   "cell_type": "code",
   "execution_count": null,
   "id": "6b5f64f7",
   "metadata": {},
   "outputs": [],
   "source": [
    "loss, mae, mse = model.evaluate(normalized_test_data, test_labels, verbose=0)\n",
    "\n",
    "print(\"testing set mean abs error {:5.2f}\".format(mae))"
   ]
  },
  {
   "cell_type": "code",
   "execution_count": null,
   "id": "8fa9fe9c",
   "metadata": {},
   "outputs": [],
   "source": [
    "test_predictions = model.predict(normalized_test_data).flatten()\n",
    "\n",
    "plt.scatter(test_labels, test_predictions)\n",
    "plt.xlabel(\"true values\")\n",
    "plt.ylabel(\"predictions\")\n",
    "plt.axis(\"equal\")\n",
    "plt.axis(\"square\")\n",
    "plt.xlim([0, plt.xlim()[1]])\n",
    "plt.ylim([0, plt.ylim()[1]])\n",
    "\n",
    "_ = plt.plot([-100, 100], [-100, 100])\n"
   ]
  },
  {
   "cell_type": "code",
   "execution_count": null,
   "id": "dbfe0dbf",
   "metadata": {},
   "outputs": [],
   "source": [
    "error = test_predictions - test_labels\n",
    "\n",
    "plt.hist(error, bins=25)\n",
    "plt.xlabel(\"prediction error\")\n",
    "_ = plt.ylabel(\"count\")\n"
   ]
  },
  {
   "cell_type": "code",
   "execution_count": null,
   "id": "b8a712df",
   "metadata": {},
   "outputs": [],
   "source": []
  }
 ],
 "metadata": {
  "kernelspec": {
   "display_name": "Python 3 (ipykernel)",
   "language": "python",
   "name": "python3"
  },
  "language_info": {
   "codemirror_mode": {
    "name": "ipython",
    "version": 3
   },
   "file_extension": ".py",
   "mimetype": "text/x-python",
   "name": "python",
   "nbconvert_exporter": "python",
   "pygments_lexer": "ipython3",
   "version": "3.10.5"
  }
 },
 "nbformat": 4,
 "nbformat_minor": 5
}
